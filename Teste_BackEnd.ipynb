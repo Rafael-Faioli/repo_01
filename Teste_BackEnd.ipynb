{
 "cells": [
  {
   "cell_type": "markdown",
   "metadata": {},
   "source": [
    "# BackEnd Projeto Integrador - Perfil do Eleitorado\n",
    "## Elaborado por Rafael Roberto Lopes\n",
    "\n",
    "### Os dados aqui apresentados se referem ao estado de São Paulo somente.\n",
    "\n",
    "Importação da bibliotecas a serem utilizadas."
   ]
  },
  {
   "cell_type": "code",
   "execution_count": 114,
   "metadata": {},
   "outputs": [],
   "source": [
    "import pandas as pd\n",
    "import matplotlib\n",
    "#import dask\n",
    "import matplotlib.pyplot as plt\n",
    "import numpy as np"
   ]
  },
  {
   "cell_type": "markdown",
   "metadata": {},
   "source": [
    "Leitura do arquivo csv do [Repositório de Dados Eleitorais](https://www.tse.jus.br/eleicoes/estatisticas/repositorio-de-dados-eleitorais-1/repositorio-de-dados-eleitorais)</p>\n",
    "Atente se o path utilizado está correto."
   ]
  },
  {
   "cell_type": "code",
   "execution_count": 43,
   "metadata": {},
   "outputs": [],
   "source": [
    "#from dask import dataframe as dd\n",
    "#df = dd.read_csv(\"C:/Users/Rafael/Documents/Rafael/FATEC/API 1 Sem/perfil_eleitor_secao_2020_SP.csv\", sep=\";\", error_bad_lines=False, encoding='Latin 1')\n",
    "df = pd.read_csv(\"C:/Users/Rafael/Documents/Rafael/FATEC/API 1 Sem/perfil_eleitor_secao_2020_SP.csv\", sep=\";\", error_bad_lines=False, encoding='Latin 1')"
   ]
  },
  {
   "cell_type": "code",
   "execution_count": 163,
   "metadata": {},
   "outputs": [
    {
     "name": "stdout",
     "output_type": "stream",
     "text": [
      "<class 'pandas.core.frame.DataFrame'>\n",
      "RangeIndex: 16089463 entries, 0 to 16089462\n",
      "Data columns (total 23 columns):\n",
      " #   Column                      Dtype \n",
      "---  ------                      ----- \n",
      " 0   DT_GERACAO                  object\n",
      " 1   HH_GERACAO                  object\n",
      " 2   ANO_ELEICAO                 int64 \n",
      " 3   SG_UF                       object\n",
      " 4   CD_MUNICIPIO                int64 \n",
      " 5   NM_MUNICIPIO                object\n",
      " 6   CD_MUN_SIT_BIOMETRIA        int64 \n",
      " 7   DS_MUN_SIT_BIOMETRIA        object\n",
      " 8   NR_ZONA                     int64 \n",
      " 9   NR_SECAO                    int64 \n",
      " 10  CD_LOCAL_VOTACAO            object\n",
      " 11  CD_GENERO                   int64 \n",
      " 12  DS_GENERO                   object\n",
      " 13  CD_ESTADO_CIVIL             int64 \n",
      " 14  DS_ESTADO_CIVIL             object\n",
      " 15  CD_FAIXA_ETARIA             int64 \n",
      " 16  DS_FAIXA_ETARIA             object\n",
      " 17  CD_GRAU_ESCOLARIDADE        int64 \n",
      " 18  DS_GRAU_ESCOLARIDADE        object\n",
      " 19  QT_ELEITORES_PERFIL         int64 \n",
      " 20  QT_ELEITORES_BIOMETRIA      int64 \n",
      " 21  QT_ELEITORES_DEFICIENCIA    int64 \n",
      " 22  QT_ELEITORES_INC_NM_SOCIAL  int64 \n",
      "dtypes: int64(13), object(10)\n",
      "memory usage: 2.8+ GB\n"
     ]
    }
   ],
   "source": [
    "df.info()"
   ]
  },
  {
   "cell_type": "code",
   "execution_count": 44,
   "metadata": {},
   "outputs": [
    {
     "data": {
      "text/html": [
       "<div>\n",
       "<style scoped>\n",
       "    .dataframe tbody tr th:only-of-type {\n",
       "        vertical-align: middle;\n",
       "    }\n",
       "\n",
       "    .dataframe tbody tr th {\n",
       "        vertical-align: top;\n",
       "    }\n",
       "\n",
       "    .dataframe thead th {\n",
       "        text-align: right;\n",
       "    }\n",
       "</style>\n",
       "<table border=\"1\" class=\"dataframe\">\n",
       "  <thead>\n",
       "    <tr style=\"text-align: right;\">\n",
       "      <th></th>\n",
       "      <th>DT_GERACAO</th>\n",
       "      <th>HH_GERACAO</th>\n",
       "      <th>ANO_ELEICAO</th>\n",
       "      <th>SG_UF</th>\n",
       "      <th>CD_MUNICIPIO</th>\n",
       "      <th>NM_MUNICIPIO</th>\n",
       "      <th>CD_MUN_SIT_BIOMETRIA</th>\n",
       "      <th>DS_MUN_SIT_BIOMETRIA</th>\n",
       "      <th>NR_ZONA</th>\n",
       "      <th>NR_SECAO</th>\n",
       "      <th>...</th>\n",
       "      <th>CD_ESTADO_CIVIL</th>\n",
       "      <th>DS_ESTADO_CIVIL</th>\n",
       "      <th>CD_FAIXA_ETARIA</th>\n",
       "      <th>DS_FAIXA_ETARIA</th>\n",
       "      <th>CD_GRAU_ESCOLARIDADE</th>\n",
       "      <th>DS_GRAU_ESCOLARIDADE</th>\n",
       "      <th>QT_ELEITORES_PERFIL</th>\n",
       "      <th>QT_ELEITORES_BIOMETRIA</th>\n",
       "      <th>QT_ELEITORES_DEFICIENCIA</th>\n",
       "      <th>QT_ELEITORES_INC_NM_SOCIAL</th>\n",
       "    </tr>\n",
       "  </thead>\n",
       "  <tbody>\n",
       "    <tr>\n",
       "      <th>0</th>\n",
       "      <td>01/08/2020</td>\n",
       "      <td>09:34:32</td>\n",
       "      <td>2020</td>\n",
       "      <td>SP</td>\n",
       "      <td>61638</td>\n",
       "      <td>ARARAQUARA</td>\n",
       "      <td>0</td>\n",
       "      <td>Sem biometria</td>\n",
       "      <td>13</td>\n",
       "      <td>196</td>\n",
       "      <td>...</td>\n",
       "      <td>3</td>\n",
       "      <td>CASADO</td>\n",
       "      <td>7579</td>\n",
       "      <td>75 a 79 anos</td>\n",
       "      <td>8</td>\n",
       "      <td>SUPERIOR COMPLETO</td>\n",
       "      <td>1</td>\n",
       "      <td>1</td>\n",
       "      <td>0</td>\n",
       "      <td>0</td>\n",
       "    </tr>\n",
       "    <tr>\n",
       "      <th>1</th>\n",
       "      <td>01/08/2020</td>\n",
       "      <td>09:34:32</td>\n",
       "      <td>2020</td>\n",
       "      <td>SP</td>\n",
       "      <td>61638</td>\n",
       "      <td>ARARAQUARA</td>\n",
       "      <td>0</td>\n",
       "      <td>Sem biometria</td>\n",
       "      <td>13</td>\n",
       "      <td>196</td>\n",
       "      <td>...</td>\n",
       "      <td>3</td>\n",
       "      <td>CASADO</td>\n",
       "      <td>8084</td>\n",
       "      <td>80 a 84 anos</td>\n",
       "      <td>1</td>\n",
       "      <td>ANALFABETO</td>\n",
       "      <td>1</td>\n",
       "      <td>0</td>\n",
       "      <td>0</td>\n",
       "      <td>0</td>\n",
       "    </tr>\n",
       "    <tr>\n",
       "      <th>2</th>\n",
       "      <td>01/08/2020</td>\n",
       "      <td>09:34:32</td>\n",
       "      <td>2020</td>\n",
       "      <td>SP</td>\n",
       "      <td>61638</td>\n",
       "      <td>ARARAQUARA</td>\n",
       "      <td>0</td>\n",
       "      <td>Sem biometria</td>\n",
       "      <td>13</td>\n",
       "      <td>196</td>\n",
       "      <td>...</td>\n",
       "      <td>3</td>\n",
       "      <td>CASADO</td>\n",
       "      <td>8084</td>\n",
       "      <td>80 a 84 anos</td>\n",
       "      <td>3</td>\n",
       "      <td>ENSINO FUNDAMENTAL INCOMPLETO</td>\n",
       "      <td>1</td>\n",
       "      <td>0</td>\n",
       "      <td>0</td>\n",
       "      <td>0</td>\n",
       "    </tr>\n",
       "    <tr>\n",
       "      <th>3</th>\n",
       "      <td>01/08/2020</td>\n",
       "      <td>09:34:32</td>\n",
       "      <td>2020</td>\n",
       "      <td>SP</td>\n",
       "      <td>61638</td>\n",
       "      <td>ARARAQUARA</td>\n",
       "      <td>0</td>\n",
       "      <td>Sem biometria</td>\n",
       "      <td>13</td>\n",
       "      <td>196</td>\n",
       "      <td>...</td>\n",
       "      <td>3</td>\n",
       "      <td>CASADO</td>\n",
       "      <td>8589</td>\n",
       "      <td>85 a 89 anos</td>\n",
       "      <td>2</td>\n",
       "      <td>LÊ E ESCREVE</td>\n",
       "      <td>2</td>\n",
       "      <td>0</td>\n",
       "      <td>0</td>\n",
       "      <td>0</td>\n",
       "    </tr>\n",
       "    <tr>\n",
       "      <th>4</th>\n",
       "      <td>01/08/2020</td>\n",
       "      <td>09:34:32</td>\n",
       "      <td>2020</td>\n",
       "      <td>SP</td>\n",
       "      <td>61638</td>\n",
       "      <td>ARARAQUARA</td>\n",
       "      <td>0</td>\n",
       "      <td>Sem biometria</td>\n",
       "      <td>13</td>\n",
       "      <td>196</td>\n",
       "      <td>...</td>\n",
       "      <td>3</td>\n",
       "      <td>CASADO</td>\n",
       "      <td>8589</td>\n",
       "      <td>85 a 89 anos</td>\n",
       "      <td>6</td>\n",
       "      <td>ENSINO MÉDIO COMPLETO</td>\n",
       "      <td>1</td>\n",
       "      <td>0</td>\n",
       "      <td>0</td>\n",
       "      <td>0</td>\n",
       "    </tr>\n",
       "  </tbody>\n",
       "</table>\n",
       "<p>5 rows × 23 columns</p>\n",
       "</div>"
      ],
      "text/plain": [
       "   DT_GERACAO HH_GERACAO  ANO_ELEICAO SG_UF  CD_MUNICIPIO NM_MUNICIPIO  \\\n",
       "0  01/08/2020   09:34:32         2020    SP         61638   ARARAQUARA   \n",
       "1  01/08/2020   09:34:32         2020    SP         61638   ARARAQUARA   \n",
       "2  01/08/2020   09:34:32         2020    SP         61638   ARARAQUARA   \n",
       "3  01/08/2020   09:34:32         2020    SP         61638   ARARAQUARA   \n",
       "4  01/08/2020   09:34:32         2020    SP         61638   ARARAQUARA   \n",
       "\n",
       "   CD_MUN_SIT_BIOMETRIA DS_MUN_SIT_BIOMETRIA  NR_ZONA  NR_SECAO  ...  \\\n",
       "0                     0        Sem biometria       13       196  ...   \n",
       "1                     0        Sem biometria       13       196  ...   \n",
       "2                     0        Sem biometria       13       196  ...   \n",
       "3                     0        Sem biometria       13       196  ...   \n",
       "4                     0        Sem biometria       13       196  ...   \n",
       "\n",
       "  CD_ESTADO_CIVIL  DS_ESTADO_CIVIL CD_FAIXA_ETARIA  \\\n",
       "0               3           CASADO            7579   \n",
       "1               3           CASADO            8084   \n",
       "2               3           CASADO            8084   \n",
       "3               3           CASADO            8589   \n",
       "4               3           CASADO            8589   \n",
       "\n",
       "                  DS_FAIXA_ETARIA CD_GRAU_ESCOLARIDADE  \\\n",
       "0  75 a 79 anos                                      8   \n",
       "1  80 a 84 anos                                      1   \n",
       "2  80 a 84 anos                                      3   \n",
       "3  85 a 89 anos                                      2   \n",
       "4  85 a 89 anos                                      6   \n",
       "\n",
       "            DS_GRAU_ESCOLARIDADE QT_ELEITORES_PERFIL  QT_ELEITORES_BIOMETRIA  \\\n",
       "0              SUPERIOR COMPLETO                   1                       1   \n",
       "1                     ANALFABETO                   1                       0   \n",
       "2  ENSINO FUNDAMENTAL INCOMPLETO                   1                       0   \n",
       "3                   LÊ E ESCREVE                   2                       0   \n",
       "4          ENSINO MÉDIO COMPLETO                   1                       0   \n",
       "\n",
       "  QT_ELEITORES_DEFICIENCIA  QT_ELEITORES_INC_NM_SOCIAL  \n",
       "0                        0                           0  \n",
       "1                        0                           0  \n",
       "2                        0                           0  \n",
       "3                        0                           0  \n",
       "4                        0                           0  \n",
       "\n",
       "[5 rows x 23 columns]"
      ]
     },
     "execution_count": 44,
     "metadata": {},
     "output_type": "execute_result"
    }
   ],
   "source": [
    "df.head()"
   ]
  },
  {
   "cell_type": "markdown",
   "metadata": {},
   "source": [
    "Array com os nomes de todas as colunas presentes no dataframe.</p>\n",
    "Para uma descrição sobre o conteúdo de cada coluna consulte o LEIAME.pdf do \"perfil_eleitor_secao_2020_SP.csv\"."
   ]
  },
  {
   "cell_type": "code",
   "execution_count": 45,
   "metadata": {},
   "outputs": [
    {
     "data": {
      "text/plain": [
       "array(['DT_GERACAO', 'HH_GERACAO', 'ANO_ELEICAO', 'SG_UF', 'CD_MUNICIPIO',\n",
       "       'NM_MUNICIPIO', 'CD_MUN_SIT_BIOMETRIA', 'DS_MUN_SIT_BIOMETRIA',\n",
       "       'NR_ZONA', 'NR_SECAO', 'CD_LOCAL_VOTACAO', 'CD_GENERO',\n",
       "       'DS_GENERO', 'CD_ESTADO_CIVIL', 'DS_ESTADO_CIVIL',\n",
       "       'CD_FAIXA_ETARIA', 'DS_FAIXA_ETARIA', 'CD_GRAU_ESCOLARIDADE',\n",
       "       'DS_GRAU_ESCOLARIDADE', 'QT_ELEITORES_PERFIL',\n",
       "       'QT_ELEITORES_BIOMETRIA', 'QT_ELEITORES_DEFICIENCIA',\n",
       "       'QT_ELEITORES_INC_NM_SOCIAL'], dtype=object)"
      ]
     },
     "execution_count": 45,
     "metadata": {},
     "output_type": "execute_result"
    }
   ],
   "source": [
    "df.columns.values"
   ]
  },
  {
   "cell_type": "markdown",
   "metadata": {},
   "source": [
    "## Definição da Tabela Faixa Etária"
   ]
  },
  {
   "cell_type": "markdown",
   "metadata": {},
   "source": [
    "Criação da tabela de faixa etária, selecionando a coluna DS_FAIXA_ETARIA do dataframe de eleitorado."
   ]
  },
  {
   "cell_type": "code",
   "execution_count": 118,
   "metadata": {},
   "outputs": [],
   "source": [
    "TabelaFaixaEtaria = df['DS_FAIXA_ETARIA']"
   ]
  },
  {
   "cell_type": "markdown",
   "metadata": {},
   "source": [
    "Ajustando tabela para exibir a contagem por grupo e ordenada."
   ]
  },
  {
   "cell_type": "code",
   "execution_count": 119,
   "metadata": {},
   "outputs": [],
   "source": [
    "TabelaFaixaEtariaOrdenada = TabelaFaixaEtaria.value_counts().sort_index()"
   ]
  },
  {
   "cell_type": "code",
   "execution_count": 120,
   "metadata": {},
   "outputs": [
    {
     "data": {
      "text/plain": [
       "100 anos ou mais                    15090\n",
       "16 anos                             10538\n",
       "17 anos                             64008\n",
       "18 anos                            165203\n",
       "19 anos                            263506\n",
       "20 anos                            303797\n",
       "21 a 24 anos                       720734\n",
       "25 a 29 anos                      1007065\n",
       "30 a 34 anos                      1144269\n",
       "35 a 39 anos                      1441207\n",
       "40 a 44 anos                      1534599\n",
       "45 a 49 anos                      1535643\n",
       "50 a 54 anos                      1557620\n",
       "55 a 59 anos                      1541389\n",
       "60 a 64 anos                      1377450\n",
       "65 a 69 anos                      1117289\n",
       "70 a 74 anos                       826709\n",
       "75 a 79 anos                       563088\n",
       "80 a 84 anos                       392548\n",
       "85 a 89 anos                       242599\n",
       "90 a 94 anos                       162290\n",
       "95 a 99 anos                       102546\n",
       "Inválido                              276\n",
       "Name: DS_FAIXA_ETARIA, dtype: int64"
      ]
     },
     "execution_count": 120,
     "metadata": {},
     "output_type": "execute_result"
    }
   ],
   "source": [
    "TabelaFaixaEtariaOrdenada"
   ]
  },
  {
   "cell_type": "markdown",
   "metadata": {},
   "source": [
    "Gráfico de exibição dos dados de eleitores por faixa etária."
   ]
  },
  {
   "cell_type": "code",
   "execution_count": 144,
   "metadata": {},
   "outputs": [
    {
     "data": {
      "text/plain": [
       "<matplotlib.axes._subplots.AxesSubplot at 0x1ba287df880>"
      ]
     },
     "execution_count": 144,
     "metadata": {},
     "output_type": "execute_result"
    },
    {
     "data": {
      "image/png": "[encoded data removed]",
      "text/plain": [
       "<Figure size 1152x720 with 1 Axes>"
      ]
     },
     "metadata": {
      "needs_background": "light"
     },
     "output_type": "display_data"
    }
   ],
   "source": [
    "df.groupby('DS_FAIXA_ETARIA').size().sort_values().plot(kind='barh', figsize=(16,10))"
   ]
  },
  {
   "cell_type": "markdown",
   "metadata": {},
   "source": [
    "## Definição da Tabela Estado Civil"
   ]
  },
  {
   "cell_type": "markdown",
   "metadata": {},
   "source": [
    "Criação da tabela de estado civil, selecionando a coluna DS_ESTADO_CIVIL do dataframe de eleitorado."
   ]
  },
  {
   "cell_type": "code",
   "execution_count": 121,
   "metadata": {},
   "outputs": [],
   "source": [
    "TabelaEstadoCivil = df['DS_ESTADO_CIVIL']"
   ]
  },
  {
   "cell_type": "markdown",
   "metadata": {},
   "source": [
    "Ajustando tabela para exibir a contagem por grupo e ordenada."
   ]
  },
  {
   "cell_type": "code",
   "execution_count": 122,
   "metadata": {},
   "outputs": [],
   "source": [
    "TabelaEstadoCivilOrdenada = TabelaEstadoCivil.value_counts().sort_index()"
   ]
  },
  {
   "cell_type": "code",
   "execution_count": 123,
   "metadata": {},
   "outputs": [
    {
     "data": {
      "text/plain": [
       "CASADO                    6533036\n",
       "DIVORCIADO                1435722\n",
       "NÃO INFORMADO               20479\n",
       "SEPARADO JUDICIALMENTE     429274\n",
       "SOLTEIRO                  6783998\n",
       "VIÚVO                      886954\n",
       "Name: DS_ESTADO_CIVIL, dtype: int64"
      ]
     },
     "execution_count": 123,
     "metadata": {},
     "output_type": "execute_result"
    }
   ],
   "source": [
    "TabelaEstadoCivilOrdenada"
   ]
  },
  {
   "cell_type": "markdown",
   "metadata": {},
   "source": [
    "Gráfico de exibição dos dados de eleitores por estado civil."
   ]
  },
  {
   "cell_type": "code",
   "execution_count": 145,
   "metadata": {},
   "outputs": [
    {
     "data": {
      "text/plain": [
       "<matplotlib.axes._subplots.AxesSubplot at 0x1ba28788520>"
      ]
     },
     "execution_count": 145,
     "metadata": {},
     "output_type": "execute_result"
    },
    {
     "data": {
      "image/png": "[encoded data removed]",
      "text/plain": [
       "<Figure size 1152x720 with 1 Axes>"
      ]
     },
     "metadata": {
      "needs_background": "light"
     },
     "output_type": "display_data"
    }
   ],
   "source": [
    "df.groupby('DS_ESTADO_CIVIL').size().sort_values().plot(kind='barh', figsize=(16,10))"
   ]
  },
  {
   "cell_type": "markdown",
   "metadata": {},
   "source": [
    "## Definição da Tabela de Escolaridade Declarada"
   ]
  },
  {
   "cell_type": "markdown",
   "metadata": {},
   "source": [
    "Criação da tabela de escolaridade declarada, selecionando a coluna DS_GRAU_ESCOLARIDADE do dataframe de eleitorado."
   ]
  },
  {
   "cell_type": "code",
   "execution_count": 197,
   "metadata": {},
   "outputs": [],
   "source": [
    "TabelaEscolaridadeDeclarada = df['DS_GRAU_ESCOLARIDADE']"
   ]
  },
  {
   "cell_type": "markdown",
   "metadata": {},
   "source": [
    "Ajustando tabela para exibir a contagem por grupo e ordenada."
   ]
  },
  {
   "cell_type": "code",
   "execution_count": 198,
   "metadata": {},
   "outputs": [],
   "source": [
    "TabelaEscolaridadeDeclaradaOrdenada = TabelaEscolaridadeDeclarada.value_counts()"
   ]
  },
  {
   "cell_type": "code",
   "execution_count": 199,
   "metadata": {},
   "outputs": [
    {
     "data": {
      "text/plain": [
       "0                       SUPERIOR COMPLETO\n",
       "1                              ANALFABETO\n",
       "2           ENSINO FUNDAMENTAL INCOMPLETO\n",
       "3                            LÊ E ESCREVE\n",
       "4                   ENSINO MÉDIO COMPLETO\n",
       "                        ...              \n",
       "16089458              SUPERIOR INCOMPLETO\n",
       "16089459                       ANALFABETO\n",
       "16089460    ENSINO FUNDAMENTAL INCOMPLETO\n",
       "16089461      ENSINO FUNDAMENTAL COMPLETO\n",
       "16089462          ENSINO MÉDIO INCOMPLETO\n",
       "Name: DS_GRAU_ESCOLARIDADE, Length: 16089463, dtype: object"
      ]
     },
     "execution_count": 199,
     "metadata": {},
     "output_type": "execute_result"
    }
   ],
   "source": [
    "TabelaEscolaridadeDeclarada"
   ]
  },
  {
   "cell_type": "markdown",
   "metadata": {},
   "source": [
    "Gráfico de exibição dos dados de eleitores por escolaridade declarada."
   ]
  },
  {
   "cell_type": "code",
   "execution_count": 200,
   "metadata": {},
   "outputs": [
    {
     "data": {
      "text/plain": [
       "<matplotlib.axes._subplots.AxesSubplot at 0x1ba3fd5a7c0>"
      ]
     },
     "execution_count": 200,
     "metadata": {},
     "output_type": "execute_result"
    },
    {
     "data": {
      "image/png": "[encoded data removed]",
      "text/plain": [
       "<Figure size 1152x720 with 1 Axes>"
      ]
     },
     "metadata": {
      "needs_background": "light"
     },
     "output_type": "display_data"
    }
   ],
   "source": [
    "df.groupby('DS_GRAU_ESCOLARIDADE').size().sort_values().plot(kind='barh', figsize=(16,10))"
   ]
  },
  {
   "cell_type": "markdown",
   "metadata": {},
   "source": [
    "## Definição do Valor de Nome Social"
   ]
  },
  {
   "cell_type": "markdown",
   "metadata": {},
   "source": [
    "Quantitativo de eleitores aptos que solicitaram inclusão de nome social em seu cadastrado junto à justiça eleitoral."
   ]
  },
  {
   "cell_type": "code",
   "execution_count": 146,
   "metadata": {},
   "outputs": [],
   "source": [
    "TabelaNomeSocial = df['QT_ELEITORES_INC_NM_SOCIAL']"
   ]
  },
  {
   "cell_type": "code",
   "execution_count": 147,
   "metadata": {},
   "outputs": [],
   "source": [
    "TabelaNomeSocialOrdenada = TabelaNomeSocial.value_counts().sort_index()"
   ]
  },
  {
   "cell_type": "code",
   "execution_count": 148,
   "metadata": {},
   "outputs": [
    {
     "data": {
      "text/plain": [
       "0    16086348\n",
       "1        3108\n",
       "2           7\n",
       "Name: QT_ELEITORES_INC_NM_SOCIAL, dtype: int64"
      ]
     },
     "execution_count": 148,
     "metadata": {},
     "output_type": "execute_result"
    }
   ],
   "source": [
    "TabelaNomeSocialOrdenada"
   ]
  },
  {
   "cell_type": "markdown",
   "metadata": {},
   "source": [
    "## Definição da Tabela de Gênero"
   ]
  },
  {
   "cell_type": "markdown",
   "metadata": {},
   "source": [
    "Criação da tabela de gênero declarado, selecionando a coluna DS_GENERO do dataframe de eleitorado."
   ]
  },
  {
   "cell_type": "code",
   "execution_count": 149,
   "metadata": {},
   "outputs": [],
   "source": [
    "TabelaGenero = df['DS_GENERO']"
   ]
  },
  {
   "cell_type": "markdown",
   "metadata": {},
   "source": [
    "Ajustando tabela para exibir a contagem por grupo e ordenada."
   ]
  },
  {
   "cell_type": "code",
   "execution_count": 150,
   "metadata": {},
   "outputs": [],
   "source": [
    "TabelaGeneroOrdenada = TabelaGenero.value_counts().sort_index()"
   ]
  },
  {
   "cell_type": "code",
   "execution_count": 151,
   "metadata": {},
   "outputs": [
    {
     "data": {
      "text/plain": [
       "FEMININO         8726864\n",
       "MASCULINO        7345708\n",
       "NÃO INFORMADO      16891\n",
       "Name: DS_GENERO, dtype: int64"
      ]
     },
     "execution_count": 151,
     "metadata": {},
     "output_type": "execute_result"
    }
   ],
   "source": [
    "TabelaGeneroOrdenada"
   ]
  },
  {
   "cell_type": "markdown",
   "metadata": {},
   "source": [
    "Gráfico de exibição dos dados de eleitores por gênero declarado."
   ]
  },
  {
   "cell_type": "code",
   "execution_count": 189,
   "metadata": {},
   "outputs": [
    {
     "data": {
      "text/plain": [
       "<matplotlib.axes._subplots.AxesSubplot at 0x1baf1f18d90>"
      ]
     },
     "execution_count": 189,
     "metadata": {},
     "output_type": "execute_result"
    },
    {
     "data": {
      "image/png": "[encoded data removed]",
      "text/plain": [
       "<Figure size 360x360 with 1 Axes>"
      ]
     },
     "metadata": {
      "needs_background": "light"
     },
     "output_type": "display_data"
    }
   ],
   "source": [
    "df.groupby('DS_GENERO').size().sort_values().plot(kind='bar', figsize=(5,5))"
   ]
  },
  {
   "cell_type": "markdown",
   "metadata": {},
   "source": [
    "## Definição da Tabela Faixa Etária de Comparação"
   ]
  },
  {
   "cell_type": "markdown",
   "metadata": {},
   "source": [
    "Aqui foi feita como exemplo a comparação dos eleitores dos municípios de São José dos Campos e Jacareí,</p>\n",
    "agrupados por faixa etária declarada."
   ]
  },
  {
   "cell_type": "code",
   "execution_count": 159,
   "metadata": {},
   "outputs": [],
   "source": [
    "TabelaFaixaEtariaComparativa = ['DS_FAIXA_ETARIA', 'NM_MUNICIPIO']"
   ]
  },
  {
   "cell_type": "code",
   "execution_count": 157,
   "metadata": {},
   "outputs": [
    {
     "data": {
      "text/plain": [
       "['DS_FAIXA_ETARIA', 'NM_MUNICIPIO']"
      ]
     },
     "execution_count": 157,
     "metadata": {},
     "output_type": "execute_result"
    }
   ],
   "source": [
    "TabelaFaixaEtariaComparativa"
   ]
  },
  {
   "cell_type": "code",
   "execution_count": 160,
   "metadata": {},
   "outputs": [],
   "source": [
    "TabelaFaixaEtariaComparativa = df.filter(items=['DS_FAIXA_ETARIA', 'NM_MUNICIPIO']).count()"
   ]
  },
  {
   "cell_type": "code",
   "execution_count": 161,
   "metadata": {},
   "outputs": [
    {
     "data": {
      "text/plain": [
       "DS_FAIXA_ETARIA    16089463\n",
       "NM_MUNICIPIO       16089463\n",
       "dtype: int64"
      ]
     },
     "execution_count": 161,
     "metadata": {},
     "output_type": "execute_result"
    }
   ],
   "source": [
    "TabelaFaixaEtariaComparativa"
   ]
  },
  {
   "cell_type": "code",
   "execution_count": 166,
   "metadata": {},
   "outputs": [
    {
     "data": {
      "text/plain": [
       "ADAMANTINA            14316\n",
       "ADOLFO                 2364\n",
       "AGUAÍ                 11199\n",
       "AGUDOS                15380\n",
       "ALAMBARI               2584\n",
       "                      ...  \n",
       "ÁGUAS DE SÃO PEDRO     2206\n",
       "ÁLVARES FLORENCE       2170\n",
       "ÁLVARES MACHADO        8882\n",
       "ÁLVARO DE CARVALHO     1567\n",
       "ÓLEO                   1430\n",
       "Name: NM_MUNICIPIO, Length: 645, dtype: int64"
      ]
     },
     "execution_count": 166,
     "metadata": {},
     "output_type": "execute_result"
    }
   ],
   "source": [
    "df['NM_MUNICIPIO'].value_counts().sort_index()"
   ]
  },
  {
   "cell_type": "code",
   "execution_count": 205,
   "metadata": {},
   "outputs": [
    {
     "data": {
      "text/plain": [
       "<matplotlib.axes._subplots.AxesSubplot at 0x1baeb6690d0>"
      ]
     },
     "execution_count": 205,
     "metadata": {},
     "output_type": "execute_result"
    },
    {
     "data": {
      "image/png": "[encoded data removed]",
      "text/plain": [
       "<Figure size 1152x720 with 1 Axes>"
      ]
     },
     "metadata": {
      "needs_background": "light"
     },
     "output_type": "display_data"
    }
   ],
   "source": [
    "df.query('NM_MUNICIPIO == \"SÃO JOSÉ DOS CAMPOS\"')['DS_FAIXA_ETARIA'].value_counts().plot(kind='barh', figsize=(16,10))"
   ]
  },
  {
   "cell_type": "code",
   "execution_count": 170,
   "metadata": {},
   "outputs": [
    {
     "data": {
      "text/plain": [
       "<matplotlib.axes._subplots.AxesSubplot at 0x1ba2c096220>"
      ]
     },
     "execution_count": 170,
     "metadata": {},
     "output_type": "execute_result"
    },
    {
     "data": {
      "image/png": "[encoded data removed]",
      "text/plain": [
       "<Figure size 1152x720 with 1 Axes>"
      ]
     },
     "metadata": {
      "needs_background": "light"
     },
     "output_type": "display_data"
    }
   ],
   "source": [
    "df.query('NM_MUNICIPIO == \"JACAREÍ\"')['DS_FAIXA_ETARIA'].value_counts().plot(kind='barh', figsize=(16,10))"
   ]
  },
  {
   "cell_type": "code",
   "execution_count": null,
   "metadata": {},
   "outputs": [],
   "source": []
  },
  {
   "cell_type": "code",
   "execution_count": null,
   "metadata": {},
   "outputs": [],
   "source": []
  },
  {
   "cell_type": "code",
   "execution_count": 188,
   "metadata": {},
   "outputs": [
    {
     "data": {
      "image/png": "[encoded data removed]",
      "text/plain": [
       "<Figure size 1152x720 with 1 Axes>"
      ]
     },
     "metadata": {
      "needs_background": "light"
     },
     "output_type": "display_data"
    }
   ],
   "source": [
    "# Definir conjunto de dados para o plot:\n",
    "comp1 = df.query('NM_MUNICIPIO == \"SÃO JOSÉ DOS CAMPOS\"')['DS_FAIXA_ETARIA'].value_counts()\n",
    "comp2 = df.query('NM_MUNICIPIO == \"JACAREÍ\"')['DS_FAIXA_ETARIA'].value_counts()\n",
    "\n",
    "## Definir Figuras:\n",
    "fig, ax = plt.subplots(1, figsize=(16, 10))\n",
    "\n",
    "#Plots\n",
    "x = np.arange(0, len(comp1.index))\n",
    "y = np.arange(0, len(comp2.index))\n",
    "\n",
    "plt.bar(x - 0.3, comp1, width = 0.6, color = '#1D2F6F')\n",
    "plt.bar(y - 0.1, comp2, width = 0.6, color = '#8390FA')\n",
    "\n",
    "#comp1.plt.barh()\n",
    "#comp2.plt.barh()\n",
    "\n",
    "# remove spines\n",
    "ax.spines['right'].set_visible(False)\n",
    "ax.spines['top'].set_visible(False)\n",
    "\n",
    "# grid lines\n",
    "ax.set_axisbelow(True)\n",
    "ax.yaxis.grid(color='gray', linestyle='dashed', alpha=0.2)\n",
    "\n",
    "# Título e Legendas\n",
    "plt.title('Comparativo Faixa Etária do Eleitor', loc ='left')\n",
    "plt.legend(['SÃO JOSÉ DOS CAMPOS', 'JACAREÍ'], loc='upper left', ncol = 4)\n",
    "\n",
    "plt.show()"
   ]
  },
  {
   "cell_type": "code",
   "execution_count": null,
   "metadata": {},
   "outputs": [],
   "source": []
  }
 ],
 "metadata": {
  "kernelspec": {
   "display_name": "Python 3",
   "language": "python",
   "name": "python3"
  },
  "language_info": {
   "codemirror_mode": {
    "name": "ipython",
    "version": 3
   },
   "file_extension": ".py",
   "mimetype": "text/x-python",
   "name": "python",
   "nbconvert_exporter": "python",
   "pygments_lexer": "ipython3",
   "version": "3.8.3"
  }
 },
 "nbformat": 4,
 "nbformat_minor": 4
}
